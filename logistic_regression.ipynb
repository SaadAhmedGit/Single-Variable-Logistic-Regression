{
 "cells": [
  {
   "cell_type": "code",
   "execution_count": 53,
   "metadata": {},
   "outputs": [],
   "source": [
    "import numpy as np\n",
    "import matplotlib.pyplot as plt\n"
   ]
  },
  {
   "cell_type": "code",
   "execution_count": 54,
   "metadata": {},
   "outputs": [],
   "source": [
    "def sigmoid(z):\n",
    "    return 1 / (1 + np.exp(-z))\n"
   ]
  },
  {
   "cell_type": "code",
   "execution_count": 55,
   "metadata": {},
   "outputs": [],
   "source": [
    "x_train = np.array(\n",
    "    [25, 600, 70, 150, 300, 110, 225]\n",
    ")  # Salaries of people in thousand PKR\n",
    "y_train = np.array(\n",
    "    [1, 0, 1, 1, 0, 1, 0]\n",
    ")  # Whether they can be considered for a financial aid program or not\n"
   ]
  },
  {
   "cell_type": "code",
   "execution_count": 56,
   "metadata": {},
   "outputs": [
    {
     "data": {
      "image/png": "[encoded data removed]",
      "text/plain": [
       "<Figure size 432x288 with 1 Axes>"
      ]
     },
     "metadata": {
      "needs_background": "light"
     },
     "output_type": "display_data"
    }
   ],
   "source": [
    "plt.xlabel(\"Income in thousand PKR\")\n",
    "plt.ylabel(\"Considered for financial aid\")\n",
    "plt.scatter(\n",
    "    x_train, y_train, c=y_train, cmap=\"RdBu\", marker=\"X\", label=\"Training Data\", s=100\n",
    ")\n",
    "plt.show()\n"
   ]
  },
  {
   "cell_type": "code",
   "execution_count": 57,
   "metadata": {},
   "outputs": [],
   "source": [
    "def compute_cost(x, y, w, b):\n",
    "    m = x.shape[0]\n",
    "    cost = 0\n",
    "    for i in range(m):\n",
    "        cost += -y[i] * np.log(sigmoid(w * x[i] + b)) - (1 - y[i]) * (\n",
    "            np.log(1 - sigmoid(w * x[i] + b))\n",
    "        )\n",
    "    cost = cost / m\n",
    "    return cost\n"
   ]
  },
  {
   "cell_type": "code",
   "execution_count": 58,
   "metadata": {},
   "outputs": [],
   "source": [
    "def compute_gradient(x, y, w, b):\n",
    "    m = x.shape[0]\n",
    "    dj_dw = 0\n",
    "    dj_db = 0\n",
    "    for i in range(m):\n",
    "        dj_dw += (sigmoid(w * x[i] + b) - y[i]) * x[i]\n",
    "        dj_db += sigmoid(w * x[i] + b) - y[i]\n",
    "    dj_dw /= m\n",
    "    dj_db /= m\n",
    "    return (dj_dw, dj_db)\n"
   ]
  },
  {
   "cell_type": "code",
   "execution_count": 59,
   "metadata": {},
   "outputs": [],
   "source": [
    "def gradient_descent(x, y, w, b, lr):\n",
    "    dj_dw, dj_db = compute_gradient(x, y, w, b)\n",
    "    i = 0\n",
    "    while True:\n",
    "        prev_cost = compute_cost(x, y, w, b)\n",
    "        dj_dw, dj_db = compute_gradient(x, y, w, b)\n",
    "        w = w - lr * dj_dw\n",
    "        b = b - lr * dj_db\n",
    "        new_cost = compute_cost(x, y, w, b)\n",
    "        d_cost = prev_cost - new_cost\n",
    "        i += 1\n",
    "        if i % 10000 == 0:\n",
    "            print(f\"Cost After epoch-{i}: {new_cost}\")\n",
    "        if d_cost < 0.0000001:\n",
    "            break\n",
    "    return (w, b)\n"
   ]
  },
  {
   "cell_type": "code",
   "execution_count": 60,
   "metadata": {},
   "outputs": [],
   "source": [
    "w = 0  # weight\n",
    "b = 0  # bias\n"
   ]
  },
  {
   "cell_type": "code",
   "execution_count": 69,
   "metadata": {},
   "outputs": [
    {
     "name": "stdout",
     "output_type": "stream",
     "text": [
      "Cost After epoch-10000: 0.5348633678791918\n",
      "Cost After epoch-20000: 0.4792349533395756\n",
      "Cost After epoch-30000: 0.43524373887398216\n",
      "Cost After epoch-40000: 0.39975312956393216\n",
      "Cost After epoch-50000: 0.3705573044379755\n",
      "Cost After epoch-60000: 0.3461114280682575\n",
      "Cost After epoch-70000: 0.32532348674423134\n",
      "Cost After epoch-80000: 0.307408626399648\n",
      "Cost After epoch-90000: 0.29179152850341367\n",
      "Cost After epoch-100000: 0.27804188442160627\n",
      "Cost After epoch-110000: 0.26583161847201014\n",
      "Cost After epoch-120000: 0.2549061723593026\n",
      "Cost After epoch-130000: 0.2450648926182391\n",
      "Cost After epoch-140000: 0.2361473766926623\n",
      "Cost After epoch-150000: 0.2280237828355107\n",
      "Cost After epoch-160000: 0.22058782554201592\n",
      "Cost After epoch-170000: 0.21375162489981422\n",
      "Cost After epoch-180000: 0.20744185930011133\n",
      "Cost After epoch-190000: 0.20159685034920707\n",
      "Cost After epoch-200000: 0.1961643252477394\n",
      "Cost After epoch-210000: 0.19109967880069406\n",
      "Cost After epoch-220000: 0.18636460889936232\n",
      "Cost After epoch-230000: 0.18192603463536172\n",
      "Cost After epoch-240000: 0.17775523073240515\n",
      "Cost After epoch-250000: 0.1738271292679126\n",
      "Cost After epoch-260000: 0.1701197520108557\n",
      "Cost After epoch-270000: 0.1666137456460935\n",
      "Cost After epoch-280000: 0.16329199870807293\n",
      "Cost After epoch-290000: 0.1601393239009196\n",
      "Cost After epoch-300000: 0.15714219311495922\n",
      "Cost After epoch-310000: 0.15428851519496753\n",
      "Cost After epoch-320000: 0.15156744860833984\n",
      "Cost After epoch-330000: 0.1489692427702717\n",
      "Cost After epoch-340000: 0.14648510302960413\n",
      "Cost After epoch-350000: 0.14410707529174238\n",
      "Cost After epoch-360000: 0.1418279470195756\n",
      "Cost After epoch-370000: 0.139641161957875\n",
      "Cost After epoch-380000: 0.13754074640785222\n",
      "Cost After epoch-390000: 0.13552124526360051\n",
      "Cost After epoch-400000: 0.13357766633204937\n",
      "Cost After epoch-410000: 0.13170543170884516\n",
      "Cost After epoch-420000: 0.1299003351863484\n",
      "Cost After epoch-430000: 0.1281585048364576\n",
      "Cost After epoch-440000: 0.12647637004761988\n",
      "Cost After epoch-450000: 0.12485063240794816\n",
      "Cost After epoch-460000: 0.12327823991956548\n",
      "Cost After epoch-470000: 0.1217563641066638\n",
      "Cost After epoch-480000: 0.120282379644317\n",
      "Cost After epoch-490000: 0.11885384618913321\n",
      "Cost After epoch-500000: 0.11746849213814081\n",
      "Cost After epoch-510000: 0.11612420008059697\n",
      "Cost After epoch-520000: 0.11481899373965887\n",
      "Cost After epoch-530000: 0.11355102622831938\n",
      "Cost After epoch-540000: 0.11231856946727183\n",
      "Cost After epoch-550000: 0.11112000463228884\n",
      "Cost After epoch-560000: 0.10995381351567575\n",
      "Cost After epoch-570000: 0.10881857070096616\n",
      "Cost After epoch-580000: 0.10771293646255745\n",
      "Cost After epoch-590000: 0.10663565031280352\n",
      "Cost After epoch-600000: 0.1055855251284291\n",
      "Cost After epoch-610000: 0.10456144179620462\n",
      "w:-0.030654027675826496, b:5.565782908771549\n"
     ]
    }
   ],
   "source": [
    "new_w, new_b = gradient_descent(x_train, y_train, w, b, 0.00015)\n",
    "print(f\"w:{new_w}, b:{new_b}\")\n"
   ]
  },
  {
   "cell_type": "code",
   "execution_count": 70,
   "metadata": {},
   "outputs": [
    {
     "name": "stdout",
     "output_type": "stream",
     "text": [
      "[1 1 0 0 1 1 0 1 1]\n",
      "[1 1 0 0 1 1 0 1 1]\n"
     ]
    }
   ],
   "source": [
    "x_test = np.array([75, 5, 350, 253, 105, 95, 904, 14, 45])\n",
    "y_test = np.array([1, 1, 0, 0, 1, 1, 0, 1, 1])\n",
    "m = x_test.shape[0]\n",
    "prediction_set = np.zeros(m, dtype=int)\n",
    "for i in range(m):\n",
    "    if sigmoid(new_w * x_test[i] + new_b) >= 0.5:\n",
    "        prediction_set[i] = 1\n",
    "    else:\n",
    "        prediction_set[i] = 0\n",
    "print(prediction_set)\n",
    "print(y_test)\n"
   ]
  },
  {
   "cell_type": "code",
   "execution_count": null,
   "metadata": {},
   "outputs": [],
   "source": []
  }
 ],
 "metadata": {
  "kernelspec": {
   "display_name": "Python 3.10.5 64-bit (windows store)",
   "language": "python",
   "name": "python3"
  },
  "language_info": {
   "codemirror_mode": {
    "name": "ipython",
    "version": 3
   },
   "file_extension": ".py",
   "mimetype": "text/x-python",
   "name": "python",
   "nbconvert_exporter": "python",
   "pygments_lexer": "ipython3",
   "version": "3.10.5"
  },
  "orig_nbformat": 4,
  "vscode": {
   "interpreter": {
    "hash": "f479dd8c04b334504c3400b48a03ddfe7ee10602ff193a5fd21d2755483d242f"
   }
  }
 },
 "nbformat": 4,
 "nbformat_minor": 2
}
